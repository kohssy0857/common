{
 "cells": [
  {
   "cell_type": "code",
   "execution_count": 2,
   "id": "0d597b79",
   "metadata": {},
   "outputs": [
    {
     "name": "stdout",
     "output_type": "stream",
     "text": [
      "[[0.1 0.  0.  0.1]\n",
      " [1.  1.  0.  1. ]\n",
      " [0.1 0.  0.1 0.2]]\n",
      "1 回目　予測値 [0.195 0.13  0.585] 実際の結果 [0.1 1.  0.1] 誤差 [ 0.095 -0.87   0.485] 各重み [0.3 0.2 0.9]\n",
      "2 回目　予測値 [0.2993825 0.205655  0.8968475] 実際の結果 [0. 1. 0.] 誤差 [ 0.2993825 -0.794345   0.8968475] 各重み [0.2993825 0.205655  0.8968475]\n",
      "3 回目　予測値 [0.29638867 0.21359845 0.88787903] 実際の結果 [0.  0.  0.1] 誤差 [0.29638867 0.21359845 0.78787903] 各重み [0.29638867 0.21359845 0.88787903]\n",
      "4 回目　予測値 [0.26408231 0.19031622 0.79200021] 実際の結果 [0.1 1.  0.2] 誤差 [ 0.16408231 -0.80968378  0.59200021] 各重み [0.29342479 0.21146247 0.88000023]\n",
      "[0.29194805 0.21874962 0.87467223]\n"
     ]
    }
   ],
   "source": [
    "# 全て学習\n",
    "import numpy as np\n",
    "wei=np.array([0.3,0.2,0.9])\n",
    "wlrec=np.array([0.65,1.0,1.0,0.9])\n",
    "hurt=np.array([0.1,0.0,0.0,0.1])\n",
    "sad=np.array([0.1,0.0,0.1,0.2])\n",
    "winR=np.array([1,1,0,1])\n",
    "alp=0.01\n",
    "goal=np.array([hurt,winR,sad])\n",
    "# print(goal)\n",
    "for i in range(4):\n",
    "    pred=wlrec[i]*wei\n",
    "    Tlis=goal.T[i]\n",
    "    err=pred-Tlis\n",
    "    DaM=err*wlrec[i]\n",
    "    print(i+1,\"回目　予測値\",pred,\"実際の結果\",Tlis,\"誤差\",err,\"各重み\",wei)\n",
    "    wei-=(DaM*alp)\n",
    "print(wei)"
   ]
  },
  {
   "cell_type": "code",
   "execution_count": 3,
   "id": "213cb244",
   "metadata": {},
   "outputs": [
    {
     "name": "stdout",
     "output_type": "stream",
     "text": [
      "1 回目　予測値 [0.195 0.13  0.585] 実際の結果 [0.1 1.  0.1] 誤差 [ 0.095 -0.87   0.485] 各重み [0.2993825 0.205655  0.8968475]\n",
      "2 回目　予測値 [0.2993825 0.205655  0.8968475] 実際の結果 [0. 1. 0.] 誤差 [ 0.2993825 -0.794345   0.8968475] 各重み [0.29638867 0.21359845 0.88787903]\n",
      "3 回目　予測値 [0.29638867 0.21359845 0.88787903] 実際の結果 [0.  0.  0.1] 誤差 [0.29638867 0.21359845 0.78787903] 各重み [0.29342479 0.21146247 0.88000023]\n",
      "4 回目　予測値 [0.26408231 0.19031622 0.79200021] 実際の結果 [0.1 1.  0.2] 誤差 [ 0.16408231 -0.80968378  0.59200021] 各重み [0.29194805 0.21874962 0.87467223]\n"
     ]
    }
   ],
   "source": [
    "# 一回ずつ学習（重みを引き継がない）\n",
    "import numpy as np\n",
    "wei=np.array([0.3,0.2,0.9])\n",
    "wlrec=np.array([0.65,1.0,1.0,0.9])\n",
    "hurt=np.array([0.1,0.0,0.0,0.1])\n",
    "sad=np.array([0.1,0.0,0.1,0.2])\n",
    "winR=np.array([1,1,0,1])\n",
    "alp=0.01\n",
    "goal=np.array([hurt,winR,sad])\n",
    "# print(goal)\n",
    "for i in range(4):\n",
    "    pred=wlrec[i]*wei\n",
    "    Tlis=goal.T[i]\n",
    "    err=pred-Tlis\n",
    "    DaM=err*wlrec[i]\n",
    "    wei-=(DaM*alp)\n",
    "    print(i+1,\"回目　予測値\",pred,\"実際の結果\",Tlis,\"誤差\",err,\"各重み\",wei)\n"
   ]
  },
  {
   "cell_type": "code",
   "execution_count": null,
   "id": "45129305",
   "metadata": {},
   "outputs": [],
   "source": []
  }
 ],
 "metadata": {
  "kernelspec": {
   "display_name": "Python 3",
   "language": "python",
   "name": "python3"
  },
  "language_info": {
   "codemirror_mode": {
    "name": "ipython",
    "version": 3
   },
   "file_extension": ".py",
   "mimetype": "text/x-python",
   "name": "python",
   "nbconvert_exporter": "python",
   "pygments_lexer": "ipython3",
   "version": "3.8.10"
  }
 },
 "nbformat": 4,
 "nbformat_minor": 5
}
