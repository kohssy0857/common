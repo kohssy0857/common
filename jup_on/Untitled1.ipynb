{
 "cells": [
  {
   "cell_type": "code",
   "execution_count": 2,
   "id": "ad740f09",
   "metadata": {},
   "outputs": [
    {
     "name": "stdout",
     "output_type": "stream",
     "text": [
      "けが？ 0.21350000000000002\n",
      "勝った 0.14500000000000002\n",
      "悲しい？ 0.5065\n"
     ]
    }
   ],
   "source": [
    "import numpy as np\n",
    "ih_wgt=np.array([[0.1,0.2,-0.1],[-0.1,0.1,0.9],[0.1,0.4,0.1]])\n",
    "hp_wgt=np.array([[0.3,1.1,-0.3],[0.1,0.2,0.0],[0.0,1.3,0.1]])\n",
    "toes=np.array([8.5,9.5,9.9,9.0])\n",
    "wlrec=np.array([0.65,0.8,0.8,0.9])\n",
    "nfans=np.array([1.2,1.3,0.5,1.0])\n",
    "inp=np.array([toes[0],wlrec[0],nfans[0]])\n",
    "\n",
    "pred=np.dot(ih_wgt,inp)\n",
    "pred=np.dot(hp_wgt,pred)\n",
    "print(\"けが？\",pred[0])\n",
    "print(\"勝った\",pred[1])\n",
    "print(\"悲しい？\",pred[2])\n"
   ]
  },
  {
   "cell_type": "code",
   "execution_count": null,
   "id": "74ab06a2",
   "metadata": {},
   "outputs": [],
   "source": []
  }
 ],
 "metadata": {
  "kernelspec": {
   "display_name": "Python 3",
   "language": "python",
   "name": "python3"
  },
  "language_info": {
   "codemirror_mode": {
    "name": "ipython",
    "version": 3
   },
   "file_extension": ".py",
   "mimetype": "text/x-python",
   "name": "python",
   "nbconvert_exporter": "python",
   "pygments_lexer": "ipython3",
   "version": "3.8.10"
  }
 },
 "nbformat": 4,
 "nbformat_minor": 5
}
