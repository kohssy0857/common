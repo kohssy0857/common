{
 "cells": [
  {
   "cell_type": "code",
   "execution_count": 18,
   "id": "64814d72",
   "metadata": {},
   "outputs": [
    {
     "name": "stdout",
     "output_type": "stream",
     "text": [
      "Error:0.6342311598444467\n",
      "Error:0.35838407676317513\n",
      "Error:0.0830183113303298\n",
      "Error:0.006467054957103705\n",
      "Error:0.0003292669000750734\n",
      "Error:1.5055622665134859e-05\n"
     ]
    }
   ],
   "source": [
    "import numpy as np\n",
    "\n",
    "np.random.seed(1)\n",
    "\n",
    "def relu(x):\n",
    "    return (x > 0) * x # returns x if x > 0\n",
    "                       # return 0 otherwise\n",
    "\n",
    "def relu2deriv(output):\n",
    "    return output>0 # returns 1 for input > 0\n",
    "                    # return 0 otherwise\n",
    "\n",
    "streetlights = np.array( [[ 1, 0, 1 ],\n",
    "                          [ 0, 1, 1 ],\n",
    "                          [ 0, 0, 1 ],\n",
    "                          [ 1, 1, 1 ] ] )\n",
    "\n",
    "walk_vs_stop = np.array([[ 1, 1, 0, 0]]).T\n",
    "    \n",
    "alpha = 0.2\n",
    "hidden_size = 4\n",
    "\n",
    "weights_0_1 = 2*np.random.random((3,hidden_size)) - 1\n",
    "weights_1_2 = 2*np.random.random((hidden_size,1)) - 1\n",
    "\n",
    "for iteration in range(60):\n",
    "   layer_2_error = 0\n",
    "   for i in range(len(streetlights)):\n",
    "      layer_0 = np.array([streetlights[i]])\n",
    "#       print(layer_0,\"ooooooooooo\",streetlights[i])\n",
    "#       print( streetlights[i],\"nn\")\n",
    "#       print(layer_0 )\n",
    "      layer_1 = relu(np.dot(layer_0,weights_0_1))\n",
    "      layer_2 = np.dot(layer_1,weights_1_2)\n",
    "\n",
    "#       layer_2_error += np.sum((layer_2 - walk_vs_stop[i:i+1]) ** 2)\n",
    "      layer_2_error += np.sum((layer_2 - walk_vs_stop[i]) ** 2)\n",
    "#       layer_2_delta = (layer_2 - walk_vs_stop[i:i+1])\n",
    "      layer_2_delta = (layer_2 - walk_vs_stop[i])\n",
    "      layer_1_delta=layer_2_delta.dot(weights_1_2.T)*relu2deriv(layer_1)\n",
    "\n",
    "      weights_1_2 -= alpha * layer_1.T.dot(layer_2_delta)\n",
    "      weights_0_1 -= alpha * layer_0.T.dot(layer_1_delta)\n",
    "\n",
    "   if(iteration % 10 == 9):\n",
    "      print(\"Error:\" + str(layer_2_error))\n"
   ]
  },
  {
   "cell_type": "code",
   "execution_count": 20,
   "id": "82a9ddcc",
   "metadata": {},
   "outputs": [
    {
     "name": "stdout",
     "output_type": "stream",
     "text": [
      "[[0.]]\n",
      "[[1 1 1]]\n",
      "[[0.]]\n"
     ]
    }
   ],
   "source": [
    "print(layer_2)\n",
    "print(layer_0)\n",
    "print(layer_2_delta )"
   ]
  },
  {
   "cell_type": "code",
   "execution_count": null,
   "id": "4d15bd1c",
   "metadata": {},
   "outputs": [],
   "source": []
  }
 ],
 "metadata": {
  "kernelspec": {
   "display_name": "Python 3",
   "language": "python",
   "name": "python3"
  },
  "language_info": {
   "codemirror_mode": {
    "name": "ipython",
    "version": 3
   },
   "file_extension": ".py",
   "mimetype": "text/x-python",
   "name": "python",
   "nbconvert_exporter": "python",
   "pygments_lexer": "ipython3",
   "version": "3.8.10"
  }
 },
 "nbformat": 4,
 "nbformat_minor": 5
}
