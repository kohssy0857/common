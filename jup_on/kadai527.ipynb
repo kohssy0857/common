{
 "cells": [
  {
   "cell_type": "code",
   "execution_count": 7,
   "id": "3c573b54",
   "metadata": {
    "scrolled": false
   },
   "outputs": [
    {
     "name": "stdout",
     "output_type": "stream",
     "text": [
      "イケメン度＝ 15.358604799999998\n",
      "良いやつ度＝ 15.832811\n",
      "できる男度＝ 13.865233599999998\n"
     ]
    }
   ],
   "source": [
    "import numpy as np\n",
    "inp=np.array([178.8,65.8,850,3])\n",
    "wgt_1=np.array([[0.078,0.064,0.055,0.045],[0.062,0.042,0.061,0.071],[0.079,0.057,0.083,0.073]])\n",
    "wgt_2=np.array([[0.088,0.048,0.073],[0.068,0.083,0.067],[0.075,0.057,0.059]])\n",
    "pred=np.dot(wgt_2,np.dot(wgt_1,inp))\n",
    "print(\"イケメン度＝\",pred[0])\n",
    "print(\"良いやつ度＝\",pred[1])\n",
    "print(\"できる男度＝\",pred[2])"
   ]
  },
  {
   "cell_type": "code",
   "execution_count": null,
   "id": "5d67b320",
   "metadata": {},
   "outputs": [],
   "source": []
  },
  {
   "cell_type": "code",
   "execution_count": null,
   "id": "f388ad5f",
   "metadata": {},
   "outputs": [],
   "source": []
  }
 ],
 "metadata": {
  "kernelspec": {
   "display_name": "Python 3",
   "language": "python",
   "name": "python3"
  },
  "language_info": {
   "codemirror_mode": {
    "name": "ipython",
    "version": 3
   },
   "file_extension": ".py",
   "mimetype": "text/x-python",
   "name": "python",
   "nbconvert_exporter": "python",
   "pygments_lexer": "ipython3",
   "version": "3.8.10"
  }
 },
 "nbformat": 4,
 "nbformat_minor": 5
}
