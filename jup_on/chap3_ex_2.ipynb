{
 "cells": [
  {
   "cell_type": "markdown",
   "metadata": {},
   "source": [
    "## 第３章　実習問題２\n",
    "## 問題１\n",
    "### ▶ 下記のニューラルネットワークを実装するプログラムを作成してください。実行結果は下記のようになります。\n",
    "#### ◎実装するニューラルネットワーク\n",
    "![](chap3_ex_2.png)\n",
    "#### ◎実行結果\n",
    "![](chap3_ex_2_result.png)"
   ]
  },
  {
   "cell_type": "code",
   "execution_count": 3,
   "metadata": {},
   "outputs": [
    {
     "name": "stdout",
     "output_type": "stream",
     "text": [
      "90.4404\n"
     ]
    }
   ],
   "source": [
    "# Numpyをインポート、別名を np とする\n",
    "import numpy as np\n",
    "\n",
    "def neural_network(input, weights):\n",
    "    pred=0\n",
    "    for i in range(len(input)):\n",
    "        pred+=(input[i]*weights[i])\n",
    "    return pred\n",
    "'''\n",
    "空のニューラルネットワーク neural_network の定義\n",
    "関数名：neural_network\n",
    "引数：input -> 入力、weights -> 重み\n",
    "処理：入力と重みを掛けて返す\n",
    "戻り値：入力と重みの乗算値\n",
    "'''\n",
    "\n",
    "\n",
    "\n",
    "\n",
    "# 重みの初期化\n",
    "\n",
    "wei=[0.07,0.068,0.085,0.4]\n",
    "# 入力値の初期化\n",
    "\n",
    "\n",
    "# 予測する\n",
    "res=neural_network([178.8,65.8,850,3], wei)\n",
    "\n",
    "# 予測を出力\n",
    "print(\"予測値\",res,\"%\")"
   ]
  },
  {
   "cell_type": "markdown",
   "metadata": {},
   "source": [
    "## 問題２\n",
    "### ▶ 下記のニューラルネットワークを実装するプログラムを作成してください。実行結果は下記のようになります。\n",
    "#### ◎実装するニューラルネットワーク\n",
    "![](chap3_ex_3.png)\n",
    "#### ◎実行結果\n",
    "![](chap3_ex_3_result.png)"
   ]
  },
  {
   "cell_type": "code",
   "execution_count": 9,
   "metadata": {
    "scrolled": false
   },
   "outputs": [
    {
     "name": "stdout",
     "output_type": "stream",
     "text": [
      "60.568 %79.552 %40.68 %"
     ]
    }
   ],
   "source": [
    "# numpy をインポート\n",
    "import numpy as np\n",
    "def ele_mul(number,vector):\n",
    "    return np.dot(vector,number)\n",
    "'''\n",
    "数値リスト（ベクトル）の各要素に\n",
    "定数を掛けたリストを返す関数 ele_mul の定義\n",
    "関数名：ele_mul\n",
    "引数：number -> 定数、vector -> 数値リスト（ベクトル）\n",
    "処理：vector の各要素に number を掛ける\n",
    "戻り値：vector の各要素に number を掛けたリスト\n",
    "'''\n",
    "\n",
    "\n",
    "\n",
    "\n",
    "def neural_network(input, weights):\n",
    "    return ele_mul(input,weights)\n",
    "\n",
    "'''\n",
    "空のニューラルネットワーク neural_network の定義\n",
    "関数名：neural_network\n",
    "引数：input -> 入力、weights -> 重み\n",
    "処理：入力と重みの加重和を求める\n",
    "戻り値：入力と重みの加重和\n",
    "'''\n",
    "\n",
    "\n",
    "\n",
    "\n",
    "\n",
    "\n",
    "# 重みの初期化\n",
    "wei=np.array([0.67,0.88,0.45])\n",
    "\n",
    "# 入力値の初期化\n",
    "\n",
    "inp=90.4\n",
    "# 予測する\n",
    "pred=neural_network(inp, wei)\n",
    "\n",
    "# 予測を出力\n",
    "\n",
    "for i in pred:\n",
    "    print(round(i,4),\"%\",end=\"\")"
   ]
  },
  {
   "cell_type": "markdown",
   "metadata": {},
   "source": [
    "## 問題３\n",
    "### ▶ 下記のニューラルネットワークを実装するプログラムを作成してください。実行結果は下記のようになります。\n",
    "#### ◎実装するニューラルネットワーク\n",
    "![](chap3_ex_4.png)\n",
    "#### ◎実行結果\n",
    "![](chap3_ex_4_result.png)"
   ]
  },
  {
   "cell_type": "code",
   "execution_count": 13,
   "metadata": {},
   "outputs": [
    {
     "name": "stdout",
     "output_type": "stream",
     "text": [
      "[65.0426 46.541  88.6448]\n"
     ]
    }
   ],
   "source": [
    "import numpy as np\n",
    "# 重み行列の初期化\n",
    "          # 身長、体重、年収、血液型\n",
    "                                         # イケメン?\n",
    "                                         # 良いやつ?\n",
    "                                         # できる男?\n",
    "wei=np.array([[0.078,0.064,0.055,0.045],[0.063,0.042,0.038,0.071],[0.079,0.057,0.083,0.073]])\n",
    "\n",
    "# ２つのベクトル（数値リスト）の内積を求める関数 w_sum の定義\n",
    "\n",
    "    \n",
    "\n",
    "\n",
    "\n",
    "\n",
    "# ベクトル（数値リスト）と行列の加重和を求める関数 vect_mat_mul の定義\n",
    "\n",
    "\n",
    "\n",
    "\n",
    "\n",
    "\n",
    "# ニューラルネットワーク neural_network の定義\n",
    "\n",
    "\n",
    "\n",
    "\n",
    "# 入力値 [身長、体重、年収、血液型] の初期化\n",
    "# 身長 = 178.8、体重 = 65.8、年収 = 850、血液型 = 3\n",
    "inf=np.array([178.8,65.8,850,3])\n",
    "\n",
    "# 予測値を求める\n",
    "\n",
    "pred=np.dot(wei,inf)\n",
    "# 予測値を表示する\n",
    "print(pred)"
   ]
  },
  {
   "cell_type": "markdown",
   "metadata": {},
   "source": [
    "## 問題４\n",
    "### ▶ テキストP２７におけるベクトル計算の各関数を定義して下記の実行結果となるようにプログラムを作成してください\n",
    "#### ◎実行結果\n",
    "![](chap3_ex_5_result.png)"
   ]
  },
  {
   "cell_type": "code",
   "execution_count": 18,
   "metadata": {},
   "outputs": [
    {
     "name": "stdout",
     "output_type": "stream",
     "text": [
      "vec_a =  [10 20 30 40 50]\n",
      "vec_b =  [5 4 3 2 1]\n",
      "[50 80 90 80 50]\n",
      "[15 24 33 42 51]\n",
      "150\n",
      "30.0\n"
     ]
    }
   ],
   "source": [
    "import numpy as np\n",
    "# 関数 elementwise_multiplication の定義\n",
    "\n",
    "def elementwise_multiplication(a,b):\n",
    "    return a*b\n",
    "\n",
    "\n",
    "# 関数 elementwise_addition の定義\n",
    "\n",
    "def elementwise_addition(a,b):\n",
    "    return a+b\n",
    "\n",
    "\n",
    "\n",
    "# 関数 vector_sum の定義\n",
    "\n",
    "def vector_sum(a):\n",
    "    return sum(a)\n",
    "\n",
    "\n",
    "\n",
    "# 関数 vector_average の定義\n",
    "\n",
    "def vector_average(a):\n",
    "    return sum(a)/len(a)\n",
    "\n",
    "\n",
    "\n",
    "# vec_a と vec_b の初期化\n",
    "vec_a = [10, 20, 30, 40, 50]\n",
    "vec_b = [5, 4, 3, 2, 1]\n",
    "vec_a =np.array(vec_a)\n",
    "vec_b =np.array(vec_b)\n",
    "\n",
    "print('vec_a = ', vec_a)\n",
    "print('vec_b = ', vec_b)\n",
    "\n",
    "# ベクトルのかけ算\n",
    "print(elementwise_multiplication(vec_a,vec_b))\n",
    "# ベクトルのたし算\n",
    "print(elementwise_addition(vec_a,vec_b))\n",
    "# ベクトルの合計\n",
    "print(vector_sum(vec_a))\n",
    "# ベクトルの平均\n",
    "print(vector_average(vec_a))"
   ]
  },
  {
   "cell_type": "code",
   "execution_count": null,
   "metadata": {},
   "outputs": [],
   "source": []
  }
 ],
 "metadata": {
  "kernelspec": {
   "display_name": "Python 3",
   "language": "python",
   "name": "python3"
  },
  "language_info": {
   "codemirror_mode": {
    "name": "ipython",
    "version": 3
   },
   "file_extension": ".py",
   "mimetype": "text/x-python",
   "name": "python",
   "nbconvert_exporter": "python",
   "pygments_lexer": "ipython3",
   "version": "3.8.10"
  }
 },
 "nbformat": 4,
 "nbformat_minor": 4
}
