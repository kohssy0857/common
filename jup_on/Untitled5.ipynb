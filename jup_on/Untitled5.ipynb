{
 "cells": [
  {
   "cell_type": "code",
   "execution_count": 13,
   "id": "3f21c967",
   "metadata": {},
   "outputs": [
    {
     "name": "stdout",
     "output_type": "stream",
     "text": [
      "[0.86  0.295 1.23 ]\n",
      "[0.2135 0.145  0.5065]\n"
     ]
    }
   ],
   "source": [
    "import numpy as np\n",
    "wei_1=np.array([[0.1,0.2,-0.1],[-0.1,0.1,0.9],[0.1,0.4,0.1]])\n",
    "wei_2=np.array([[0.3,1.1,-0.3],[0.1,0.2,0.0],[0.0,1.3,0.1]])\n",
    "inp=np.array([[8.5,9.5,9.9,9.0],[0.65,0.8,0.8,0.9],[1.2,1.3,0.5,1.0]])\n",
    "inp_1=inp.T[0]\n",
    "pred1=np.dot(wei_1,inp_1)\n",
    "print(pred1)\n",
    "pred2=np.dot(wei_2,pred1)\n",
    "print(pred2)"
   ]
  },
  {
   "cell_type": "code",
   "execution_count": null,
   "id": "b34bb5d2",
   "metadata": {},
   "outputs": [],
   "source": [
    "import numpy as np"
   ]
  }
 ],
 "metadata": {
  "kernelspec": {
   "display_name": "Python 3",
   "language": "python",
   "name": "python3"
  },
  "language_info": {
   "codemirror_mode": {
    "name": "ipython",
    "version": 3
   },
   "file_extension": ".py",
   "mimetype": "text/x-python",
   "name": "python",
   "nbconvert_exporter": "python",
   "pygments_lexer": "ipython3",
   "version": "3.8.10"
  }
 },
 "nbformat": 4,
 "nbformat_minor": 5
}
