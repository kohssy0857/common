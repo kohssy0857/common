{
 "cells": [
  {
   "cell_type": "markdown",
   "metadata": {},
   "source": [
    "## 第４章　実習１\n",
    "## 問題１\n",
    "### ▶ 下記のニューラルネットワークを実装するプログラムコメントに従ってを実装してください。実行結果は下記のようになります。\n",
    "![](chap4_ex_1.png)"
   ]
  },
  {
   "cell_type": "code",
   "execution_count": 4,
   "metadata": {},
   "outputs": [
    {
     "name": "stdout",
     "output_type": "stream",
     "text": [
      "error: 0.15956250000000005 \n",
      "Prediction: 0.8404375\n",
      "error: 0.044278593749999984 \n",
      "Prediction: 0.95572140625\n",
      "error: 0.012287309765625087 \n",
      "Prediction: 0.9877126902343749\n",
      "error: 0.0034097284599609035 \n",
      "Prediction: 0.9965902715400391\n",
      "error: 0.000946199647639201 \n",
      "Prediction: 0.9990538003523608\n",
      "error: 0.00026257040221988603 \n",
      "Prediction: 0.9997374295977801\n",
      "error: 7.286328661593178e-05 \n",
      "Prediction: 0.9999271367133841\n",
      "error: 2.0219562035905803e-05 \n",
      "Prediction: 0.9999797804379641\n",
      "error: 5.610928464849785e-06 \n",
      "Prediction: 0.9999943890715352\n",
      "error: 1.5570326490355058e-06 \n",
      "Prediction: 0.999998442967351\n",
      "error: 4.320765601972809e-07 \n",
      "Prediction: 0.9999995679234398\n",
      "error: 1.199012454877746e-07 \n",
      "Prediction: 0.9999998800987545\n",
      "error: 3.327259556762385e-08 \n",
      "Prediction: 0.9999999667274044\n",
      "error: 9.23314524836627e-09 \n",
      "Prediction: 0.9999999907668548\n",
      "error: 2.5621977872702928e-09 \n",
      "Prediction: 0.9999999974378022\n",
      "error: 7.110099176088625e-10 \n",
      "Prediction: 0.9999999992889901\n",
      "error: 1.9730528322270402e-10 \n",
      "Prediction: 0.9999999998026947\n",
      "error: 5.475231379392653e-11 \n",
      "Prediction: 0.9999999999452477\n",
      "error: 1.5193735158902655e-11 \n",
      "Prediction: 0.9999999999848063\n",
      "error: 4.2161829583164945e-12 \n",
      "Prediction: 0.9999999999957838\n"
     ]
    }
   ],
   "source": [
    "# 予測関数 neural_network(input, weight) の定義\n",
    "\n",
    "def neural_network(input, weight):\n",
    "    return input*weight\n",
    "\n",
    "\n",
    "# 学習関数 grad_descent_learn(input, goal_pred, pred, weight) の定義\n",
    "'''\n",
    "関数名：grad_descent_learn\n",
    "引数：\n",
    "    input：入力値\n",
    "    goal_pred：目的値\n",
    "    pred：予測値\n",
    "    weight：重み\n",
    "処理：勾配降下法に基づき重みを修正する\n",
    "戻り値：修正された重み\n",
    "'''\n",
    "def grad_descent_learn(input, goal_pred, pred, weight):\n",
    "    err=(pred-goal_pred)**2\n",
    "    DiA=(pred-goal_pred)*input\n",
    "    return weight-DiA\n",
    "\n",
    "\n",
    "\n",
    "\n",
    "\n",
    "\n",
    "\n",
    "\n",
    "# 重みの初期化（0.5 に初期化）\n",
    "wei=0.5\n",
    "# 目的値（正解）の初期化（できる男度　1.0 に初期化）\n",
    "goal_pred=1.0\n",
    "# 入力値の初期化（年収　0.85 に初期化）\n",
    "inp=0.85\n",
    "\n",
    "# 予測・比較・学習を２０回繰り返す\n",
    "for i in range(20):\n",
    "    # 予測を求める\n",
    "    pred=neural_network(inp,wei)\n",
    "    # 学習する\n",
    "    wei=grad_descent_learn(inp,goal_pred,pred,wei)\n",
    "    # 予測値を表示\n",
    "    print(\"error:\",goal_pred-neural_network(inp,wei),\"\\nPrediction:\",neural_network(inp,wei))"
   ]
  },
  {
   "cell_type": "code",
   "execution_count": null,
   "metadata": {},
   "outputs": [],
   "source": []
  }
 ],
 "metadata": {
  "kernelspec": {
   "display_name": "Python 3",
   "language": "python",
   "name": "python3"
  },
  "language_info": {
   "codemirror_mode": {
    "name": "ipython",
    "version": 3
   },
   "file_extension": ".py",
   "mimetype": "text/x-python",
   "name": "python",
   "nbconvert_exporter": "python",
   "pygments_lexer": "ipython3",
   "version": "3.8.10"
  }
 },
 "nbformat": 4,
 "nbformat_minor": 4
}
