{
 "cells": [
  {
   "cell_type": "code",
   "execution_count": 1,
   "id": "ae5d08ea",
   "metadata": {},
   "outputs": [
    {
     "name": "stderr",
     "output_type": "stream",
     "text": [
      "<ipython-input-1-ed535a6936a6>:33: UserWarning: FixedFormatter should only be used together with FixedLocator\n",
      "  ax.set_xticklabels([\"\", \"A\", \"B\", \"C\"])\n"
     ]
    },
    {
     "data": {
      "image/png": "[encoded data removed]",
      "text/plain": [
       "<Figure size 432x288 with 1 Axes>"
      ]
     },
     "metadata": {
      "needs_background": "light"
     },
     "output_type": "display_data"
    }
   ],
   "source": [
    "\n",
    "import numpy as np\n",
    "import matplotlib.pyplot as plt\n",
    "from matplotlib.ticker import MaxNLocator\n",
    "\n",
    "def epsilon_greedy_selection(epsilon, values):\n",
    "    \"\"\"\n",
    "        epsilon-greedy 行動選択\n",
    "    \"\"\"\n",
    "    nb_values = len(values)\n",
    "\n",
    "    if np.random.uniform() < epsilon:   # 探索(epsilonの確率で)\n",
    "        action = np.random.randint(0, nb_values)\n",
    "    else:                               # 知識利用(1-epsilonの確率で)\n",
    "        action = np.argmax(values)\n",
    "\n",
    "    return action\n",
    "\n",
    "nb_steps = 1000 \n",
    "values = [100, 50, 10]\n",
    "epsilon = 0.1        # 探索率(epsilon)\n",
    "# ε-1の確率で報酬の期待値の高い行動をとる。εはランダムに行動選択\n",
    "\n",
    "results = []\n",
    "# 複数回行動選択\n",
    "for _ in range(nb_steps):\n",
    "    selected_action = epsilon_greedy_selection(epsilon, values)\n",
    "    results.append(selected_action)\n",
    "\n",
    "# ヒストグラムのプロット\n",
    "fig = plt.figure()\n",
    "ax = fig.add_subplot(1,1,1)\n",
    "ax.xaxis.set_major_locator(MaxNLocator(integer=True))   # x軸のメモリを整数に\n",
    "ax.set_xticklabels([\"\", \"A\", \"B\", \"C\"])\n",
    "ax.set_ylim(0, 1000)\n",
    "ax.hist(results)\n",
    "plt.savefig(\"result.jpg\")\n",
    "plt.show()\n"
   ]
  },
  {
   "cell_type": "code",
   "execution_count": null,
   "id": "8c3207d4",
   "metadata": {},
   "outputs": [],
   "source": []
  }
 ],
 "metadata": {
  "kernelspec": {
   "display_name": "Python 3",
   "language": "python",
   "name": "python3"
  },
  "language_info": {
   "codemirror_mode": {
    "name": "ipython",
    "version": 3
   },
   "file_extension": ".py",
   "mimetype": "text/x-python",
   "name": "python",
   "nbconvert_exporter": "python",
   "pygments_lexer": "ipython3",
   "version": "3.8.10"
  }
 },
 "nbformat": 4,
 "nbformat_minor": 5
}
